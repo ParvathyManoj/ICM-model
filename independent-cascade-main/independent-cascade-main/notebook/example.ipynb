{
 "cells": [
  {
   "cell_type": "code",
   "execution_count": 171,
   "metadata": {},
   "outputs": [],
   "source": [
    "# Packages\n",
    "import sys; sys.path.append('..')\n",
    "import src.seed as seed\n",
    "from src.data import data_load\n"
   ]
  },
  {
   "cell_type": "code",
   "execution_count": 172,
   "metadata": {},
   "outputs": [],
   "source": [
    "# Parameters\n",
    "path = '../data/example.txt'  # dataset file path\n",
    "init_rate = 0.05  # initial influence rate, recommend from 0 to 0.05(will have to increase for smaller graphs)\n",
    "threshold = 0.5  # threshold of influence, recommend from 0 to 1\n",
    "\n",
    "# Seed selection policy, option: 'degree', 'random',\n",
    "# 'degree_discount', 'degree_neighbor', 'degree_neighbor_fix', 'mia'\n",
    "policy = 'degree'  "
   ]
  },
  {
   "cell_type": "code",
   "execution_count": 173,
   "metadata": {},
   "outputs": [
    {
     "name": "stdout",
     "output_type": "stream",
     "text": [
      "Number of Nodes: 34\n",
      "Number of Edges: 156\n",
      "Number of Seeds: 1\n"
     ]
    }
   ],
   "source": [
    "# Seed selection\n",
    "nodes, edges = data_load()\n",
    "seeds_number = int(len(nodes) * init_rate)\n",
    "if policy == 'degree':\n",
    "    seeds = seed.degree(edges, seeds_number)\n",
    "elif policy == 'random':\n",
    "    seeds = seed.random(nodes, seeds_number)\n",
    "elif policy == 'degree_discount':\n",
    "    seeds = seed.degree_discount(edges, seeds_number)\n",
    "elif policy == 'degree_neighbor':\n",
    "    seeds = seed.degree_neighbor(edges, seeds_number)\n",
    "elif policy == 'degree_neighbor_fix':\n",
    "    seeds = seed.degree_neighbor_fix(edges, seeds_number)\n",
    "elif policy == 'mia':\n",
    "    seeds = seed.mia(nodes, edges, seeds_number)\n",
    "else: \n",
    "    raise NameError(\"Unknown policy\")\n",
    "print(f'Number of Seeds: {len(seeds)}')"
   ]
  },
  {
   "cell_type": "code",
   "execution_count": 174,
   "metadata": {},
   "outputs": [
    {
     "name": "stdout",
     "output_type": "stream",
     "text": [
      "[33]\n"
     ]
    }
   ],
   "source": [
    "print(seeds)"
   ]
  },
  {
   "cell_type": "code",
   "execution_count": 175,
   "metadata": {},
   "outputs": [],
   "source": [
    "import numpy as np\n",
    "\n",
    "\n",
    "def influence_count(nodes, edges, seeds, threshold):\n",
    "    ''' Calculate influent result\n",
    "    Args:\n",
    "        nodes (list) [#node]: nodes list of the graph;\n",
    "        edges (list of list) [#edge, 2]: edges list of the graph;\n",
    "        seeds (list) [#seed]: selected seeds;\n",
    "        threshold (float): influent threshold, between 0 and 1;\n",
    "    Return:\n",
    "        final_actived_node (list): list of influent nodes;\n",
    "    '''\n",
    "    in_degree = {}\n",
    "    inactive_nodes = []\n",
    "    active_nodes = []\n",
    "    nodes_status = {}\n",
    "\n",
    "    for edge in edges: \n",
    "        if edge[0] in seeds:\n",
    "            active_nodes.append(edge[0])\n",
    "        else:\n",
    "            inactive_nodes.append(edge[0])\n",
    "        if edge[1] in seeds:\n",
    "            active_nodes.append(edge[1])\n",
    "        else:\n",
    "            inactive_nodes.append(edge[1])\n",
    "        if edge[1] in in_degree:\n",
    "            in_degree[edge[1]] += 1\n",
    "        else:\n",
    "            in_degree[edge[1]] = 1\n",
    "\n",
    "    active_nodes = list(set(active_nodes))\n",
    "    inactive_nodes = list(set(inactive_nodes))\n",
    "\n",
    "    for node in nodes:\n",
    "        nodes_status[node] = 0\n",
    "    for node in active_nodes:\n",
    "        nodes_status[node] = 1\n",
    "            \n",
    "    while(active_nodes):\n",
    "        new_actived_nodes = []\n",
    "        for edge in edges:\n",
    "            if nodes_status[edge[0]] == 1:\n",
    "                if nodes_status[edge[1]] == 0:\n",
    "                    p = np.array([1 - threshold / in_degree[edge[1]], threshold / in_degree[edge[1]]])\n",
    "                    flag = np.random.choice([0, 1], p=p.ravel())\n",
    "                    if flag:\n",
    "                        new_actived_nodes.append(edge[1])\n",
    "        for node in active_nodes:\n",
    "            nodes_status[node] = 2\n",
    "        for node in new_actived_nodes:\n",
    "            nodes_status[node] = 1\n",
    "        active_nodes = new_actived_nodes\n",
    "\n",
    "    final_actived_node = 0\n",
    "    a=[]\n",
    "    for node in nodes:\n",
    "        if nodes_status[node] == 2:\n",
    "            final_actived_node += 1\n",
    "            a.append(node)\n",
    "    return a"
   ]
  },
  {
   "cell_type": "code",
   "execution_count": 176,
   "metadata": {},
   "outputs": [
    {
     "name": "stdout",
     "output_type": "stream",
     "text": [
      "[9, 18, 26, 33]\n"
     ]
    }
   ],
   "source": [
    "# Calculate Influence\n",
    "b= influence_count(nodes, edges, seeds, threshold)\n",
    "print(b)"
   ]
  },
  {
   "cell_type": "code",
   "execution_count": 177,
   "metadata": {},
   "outputs": [
    {
     "name": "stdout",
     "output_type": "stream",
     "text": [
      "[9, 15, 18, 22, 26, 33]\n"
     ]
    }
   ],
   "source": [
    "a=[]\n",
    "influential_node=[]\n",
    "n=200\n",
    "for i in range(0,n):\n",
    "    a=a+(influence_count(nodes, edges, seeds, threshold))\n",
    "for i in range(0,34):\n",
    "    if a.count(i)>=n/4 :\n",
    "        influential_node.append(i)\n",
    "print(influential_node)"
   ]
  }
 ],
 "metadata": {
  "interpreter": {
   "hash": "6351584294848f066da2286fc4d9a9ed603fafa7b7f7c385316cfa51841525d1"
  },
  "kernelspec": {
   "display_name": "Python 3.9.7 ('py9')",
   "language": "python",
   "name": "python3"
  },
  "language_info": {
   "codemirror_mode": {
    "name": "ipython",
    "version": 3
   },
   "file_extension": ".py",
   "mimetype": "text/x-python",
   "name": "python",
   "nbconvert_exporter": "python",
   "pygments_lexer": "ipython3",
   "version": "3.10.10"
  },
  "orig_nbformat": 4
 },
 "nbformat": 4,
 "nbformat_minor": 2
}
